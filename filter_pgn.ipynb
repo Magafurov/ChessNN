{
 "cells": [
  {
   "cell_type": "code",
   "execution_count": 1,
   "id": "4d0450c4",
   "metadata": {},
   "outputs": [],
   "source": [
    "import os\n",
    "import subprocess"
   ]
  },
  {
   "cell_type": "code",
   "execution_count": 2,
   "id": "0897fcf1",
   "metadata": {},
   "outputs": [],
   "source": [
    "def filter_pgn(log_file,\n",
    "               source_dir_file,\n",
    "               target_dir_file,\n",
    "               games,\n",
    "               tags_dir_file = None):\n",
    "\n",
    "    command = \"pgn-extract -o \"+target_dir_file\n",
    "\n",
    "    if games>0:\n",
    "        command += \" --stopafter \"+str(games)\n",
    "\n",
    "    if tags_dir_file is not None:\n",
    "        command += \" -t \"+tags_dir_file\n",
    "\n",
    "    command += \" \"+source_dir_file\n",
    "\n",
    "    #print(command)\n",
    "\n",
    "    subprocess.getoutput('start \"\" \"cmd\" /k \"'+str(command)+'\"')\n",
    "\n",
    "    if os.path.exists(target_dir_file):\n",
    "        print(\"Success\")\n",
    "\n",
    "        if log_file is not None:\n",
    "            with open(log_file, \"a\") as file:\n",
    "\n",
    "                file.write(\"\\n\")\n",
    "                file.write(\"\\nsource_dir_file: \"+source_dir_file)\n",
    "                file.write(\"\\ntarget_dir_file: \"+target_dir_file)\n",
    "                if games>0:\n",
    "                    file.write(\"\\ngames: \"+str(games))\n",
    "                else:\n",
    "                    file.write(\"\\ngames: Unbounded\")\n",
    "                file.write(\"\\ntags_dir_file: \"+str(tags_dir_file))\n",
    "                file.write(\"\\n\")\n",
    "                "
   ]
  },
  {
   "cell_type": "code",
   "execution_count": null,
   "id": "dfed975e",
   "metadata": {},
   "outputs": [],
   "source": []
  },
  {
   "cell_type": "code",
   "execution_count": 3,
   "id": "e2f1d756",
   "metadata": {},
   "outputs": [
    {
     "name": "stdout",
     "output_type": "stream",
     "text": [
      "Success\n"
     ]
    }
   ],
   "source": [
    "\n",
    "filter_pgn(log_file = \"pgn_catalog.txt\",\n",
    "        source_dir_file = r\"D:\\Chess\\games_pgn\\lichess_db_standard_rated_2019-10.pgn\",\n",
    "        target_dir_file = \"pgn_npz_tag_files\\\\100k_1400to2600.pgn\",\n",
    "        games=100_000,\n",
    "        tags_dir_file = \"pgn_npz_tag_files\\\\tags1426.txt\")\n"
   ]
  },
  {
   "cell_type": "code",
   "execution_count": 5,
   "id": "5241bf28",
   "metadata": {},
   "outputs": [
    {
     "name": "stdout",
     "output_type": "stream",
     "text": [
      "Success\n"
     ]
    }
   ],
   "source": [
    "\n",
    "filter_pgn(log_file = \"pgn_catalog.txt\",\n",
    "        source_dir_file = r\"D:\\Chess\\games_pgn\\lichess_db_standard_rated_2019-10.pgn\",\n",
    "        target_dir_file = \"pgn_npz_tag_files\\\\1000games.pgn\",\n",
    "        games=1000,\n",
    "        tags_dir_file =None)\n"
   ]
  },
  {
   "cell_type": "code",
   "execution_count": null,
   "id": "49bc5eb6",
   "metadata": {},
   "outputs": [],
   "source": []
  },
  {
   "cell_type": "code",
   "execution_count": 5,
   "id": "02344049",
   "metadata": {},
   "outputs": [
    {
     "name": "stdout",
     "output_type": "stream",
     "text": [
      "Success\n"
     ]
    }
   ],
   "source": [
    "\n",
    "filter_pgn(log_file = \"pgn_catalog.txt\",\n",
    "        source_dir_file = r\"D:\\Chess\\games_pgn\\lichess_db_standard_rated_2019-10.pgn\",\n",
    "        target_dir_file = \"D:\\\\Chess\\\\unbounded_1400to2600.pgn\",\n",
    "        games = 0,\n",
    "        tags_dir_file = \"pgn_npz_tag_files\\\\tags1426.txt\")\n"
   ]
  },
  {
   "cell_type": "code",
   "execution_count": null,
   "id": "e7c7b05c",
   "metadata": {},
   "outputs": [],
   "source": []
  }
 ],
 "metadata": {
  "kernelspec": {
   "display_name": "Python 3 (ipykernel)",
   "language": "python",
   "name": "python3"
  },
  "language_info": {
   "codemirror_mode": {
    "name": "ipython",
    "version": 3
   },
   "file_extension": ".py",
   "mimetype": "text/x-python",
   "name": "python",
   "nbconvert_exporter": "python",
   "pygments_lexer": "ipython3",
   "version": "3.10.4"
  }
 },
 "nbformat": 4,
 "nbformat_minor": 5
}
